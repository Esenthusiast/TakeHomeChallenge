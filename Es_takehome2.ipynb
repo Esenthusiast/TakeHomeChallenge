{
 "cells": [
  {
   "cell_type": "markdown",
   "metadata": {},
   "source": [
    "Defining an \"adopted user\" as a user who has logged into the product on three separate days in at least one sevenday period , identify which factors predict future user adoption. We suggest spending 1-2 hours on this, but you're welcome to spend more or less. Please send us a brief writeup of your findings (the more concise, the better no more than one page), along with any summary tables, graphs, code, or queries that can help us understand your approach. Please note any factors you considered or investigation you did, even if they did not pan out. Feel free to identify any further research or data\n",
    "you think would be valuable."
   ]
  },
  {
   "cell_type": "code",
   "execution_count": 1,
   "metadata": {
    "collapsed": true
   },
   "outputs": [],
   "source": [
    "import pandas as pd\n",
    "import datetime \n",
    "import numpy as np\n",
    "import matplotlib.pyplot as plt\n",
    "import seaborn as sns"
   ]
  },
  {
   "cell_type": "code",
   "execution_count": 2,
   "metadata": {
    "collapsed": true
   },
   "outputs": [],
   "source": [
    "df_engag= pd.read_csv('1481069814_relax_challenge2/relax_challenge/takehome_user_engagement.csv',\n",
    "                     index_col = 0, header= 0, sep=\",\", engine = 'python', na_filter = False, thousands=',')\n",
    "df_user= pd.read_csv('1481069814_relax_challenge2/relax_challenge/takehome_users.csv',\n",
    "                     index_col = 0, header= 0, sep=\",\", engine = 'python', na_filter = False, thousands=',')\n",
    "\n",
    "df_engag.reset_index(inplace=True)\n",
    "df_user.reset_index(inplace=True)"
   ]
  },
  {
   "cell_type": "markdown",
   "metadata": {
    "collapsed": true
   },
   "source": [
    "# identify Adopted User\n",
    "\n",
    "Defining an \"adopted user\" as a user who has logged into the product on three \n",
    "separate days in at least one sevenday period - identify those"
   ]
  },
  {
   "cell_type": "code",
   "execution_count": 3,
   "metadata": {
    "collapsed": true
   },
   "outputs": [],
   "source": [
    "# First step, join on 'user_id' and 'object_id' (identified as equivilent in supp.)\n",
    "df_= pd.merge(df_engag, df_user, left_on= 'user_id', right_on='object_id')\n",
    "df_=df_.drop(['visited'], axis = 1)\n",
    "df_=df_.drop(['object_id'], axis = 1)\n",
    "df_.time_stamp= pd.to_datetime(df_.time_stamp)"
   ]
  },
  {
   "cell_type": "code",
   "execution_count": 4,
   "metadata": {},
   "outputs": [
    {
     "data": {
      "text/html": [
       "<div>\n",
       "<style>\n",
       "    .dataframe thead tr:only-child th {\n",
       "        text-align: right;\n",
       "    }\n",
       "\n",
       "    .dataframe thead th {\n",
       "        text-align: left;\n",
       "    }\n",
       "\n",
       "    .dataframe tbody tr th {\n",
       "        vertical-align: top;\n",
       "    }\n",
       "</style>\n",
       "<table border=\"1\" class=\"dataframe\">\n",
       "  <thead>\n",
       "    <tr style=\"text-align: right;\">\n",
       "      <th></th>\n",
       "      <th>time_stamp</th>\n",
       "      <th>user_id</th>\n",
       "      <th>creation_time</th>\n",
       "      <th>name</th>\n",
       "      <th>email</th>\n",
       "      <th>creation_source</th>\n",
       "      <th>last_session_creation_time</th>\n",
       "      <th>opted_in_to_mailing_list</th>\n",
       "      <th>enabled_for_marketing_drip</th>\n",
       "      <th>org_id</th>\n",
       "      <th>invited_by_user_id</th>\n",
       "    </tr>\n",
       "  </thead>\n",
       "  <tbody>\n",
       "    <tr>\n",
       "      <th>1</th>\n",
       "      <td>2013-11-15 03:45:04</td>\n",
       "      <td>2</td>\n",
       "      <td>2013-11-15 03:45:04</td>\n",
       "      <td>Poole Matthew</td>\n",
       "      <td>MatthewPoole@gustr.com</td>\n",
       "      <td>ORG_INVITE</td>\n",
       "      <td>1396237504</td>\n",
       "      <td>0</td>\n",
       "      <td>0</td>\n",
       "      <td>1</td>\n",
       "      <td>316</td>\n",
       "    </tr>\n",
       "    <tr>\n",
       "      <th>2</th>\n",
       "      <td>2013-11-29 03:45:04</td>\n",
       "      <td>2</td>\n",
       "      <td>2013-11-15 03:45:04</td>\n",
       "      <td>Poole Matthew</td>\n",
       "      <td>MatthewPoole@gustr.com</td>\n",
       "      <td>ORG_INVITE</td>\n",
       "      <td>1396237504</td>\n",
       "      <td>0</td>\n",
       "      <td>0</td>\n",
       "      <td>1</td>\n",
       "      <td>316</td>\n",
       "    </tr>\n",
       "    <tr>\n",
       "      <th>3</th>\n",
       "      <td>2013-12-09 03:45:04</td>\n",
       "      <td>2</td>\n",
       "      <td>2013-11-15 03:45:04</td>\n",
       "      <td>Poole Matthew</td>\n",
       "      <td>MatthewPoole@gustr.com</td>\n",
       "      <td>ORG_INVITE</td>\n",
       "      <td>1396237504</td>\n",
       "      <td>0</td>\n",
       "      <td>0</td>\n",
       "      <td>1</td>\n",
       "      <td>316</td>\n",
       "    </tr>\n",
       "    <tr>\n",
       "      <th>4</th>\n",
       "      <td>2013-12-25 03:45:04</td>\n",
       "      <td>2</td>\n",
       "      <td>2013-11-15 03:45:04</td>\n",
       "      <td>Poole Matthew</td>\n",
       "      <td>MatthewPoole@gustr.com</td>\n",
       "      <td>ORG_INVITE</td>\n",
       "      <td>1396237504</td>\n",
       "      <td>0</td>\n",
       "      <td>0</td>\n",
       "      <td>1</td>\n",
       "      <td>316</td>\n",
       "    </tr>\n",
       "    <tr>\n",
       "      <th>5</th>\n",
       "      <td>2013-12-31 03:45:04</td>\n",
       "      <td>2</td>\n",
       "      <td>2013-11-15 03:45:04</td>\n",
       "      <td>Poole Matthew</td>\n",
       "      <td>MatthewPoole@gustr.com</td>\n",
       "      <td>ORG_INVITE</td>\n",
       "      <td>1396237504</td>\n",
       "      <td>0</td>\n",
       "      <td>0</td>\n",
       "      <td>1</td>\n",
       "      <td>316</td>\n",
       "    </tr>\n",
       "  </tbody>\n",
       "</table>\n",
       "</div>"
      ],
      "text/plain": [
       "           time_stamp  user_id        creation_time           name  \\\n",
       "1 2013-11-15 03:45:04        2  2013-11-15 03:45:04  Poole Matthew   \n",
       "2 2013-11-29 03:45:04        2  2013-11-15 03:45:04  Poole Matthew   \n",
       "3 2013-12-09 03:45:04        2  2013-11-15 03:45:04  Poole Matthew   \n",
       "4 2013-12-25 03:45:04        2  2013-11-15 03:45:04  Poole Matthew   \n",
       "5 2013-12-31 03:45:04        2  2013-11-15 03:45:04  Poole Matthew   \n",
       "\n",
       "                    email creation_source last_session_creation_time  \\\n",
       "1  MatthewPoole@gustr.com      ORG_INVITE                 1396237504   \n",
       "2  MatthewPoole@gustr.com      ORG_INVITE                 1396237504   \n",
       "3  MatthewPoole@gustr.com      ORG_INVITE                 1396237504   \n",
       "4  MatthewPoole@gustr.com      ORG_INVITE                 1396237504   \n",
       "5  MatthewPoole@gustr.com      ORG_INVITE                 1396237504   \n",
       "\n",
       "   opted_in_to_mailing_list  enabled_for_marketing_drip  org_id  \\\n",
       "1                         0                           0       1   \n",
       "2                         0                           0       1   \n",
       "3                         0                           0       1   \n",
       "4                         0                           0       1   \n",
       "5                         0                           0       1   \n",
       "\n",
       "  invited_by_user_id  \n",
       "1                316  \n",
       "2                316  \n",
       "3                316  \n",
       "4                316  \n",
       "5                316  "
      ]
     },
     "execution_count": 4,
     "metadata": {},
     "output_type": "execute_result"
    }
   ],
   "source": [
    "# So I am looking for users who have logged in three or more times\n",
    "user_engagement_counts = df_[\"user_id\"].value_counts()\n",
    "user_engagement_3 = df_[df_[\"user_id\"].isin(user_engagement_counts[user_engagement_counts > 2].index)]\n",
    "user_engagement_3.head()\n"
   ]
  },
  {
   "cell_type": "markdown",
   "metadata": {},
   "source": [
    "next I need to identify how many and which of these individuals visited three times within one 7 days period"
   ]
  },
  {
   "cell_type": "code",
   "execution_count": 5,
   "metadata": {},
   "outputs": [
    {
     "name": "stdout",
     "output_type": "stream",
     "text": [
      "1602\n"
     ]
    }
   ],
   "source": [
    "adopted_users= []\n",
    "for user in user_engagement_3['user_id'].unique():\n",
    "    # make list w/user id\n",
    "    this_user_engag= user_engagement_3[user_engagement_3[\"user_id\"] == user]\n",
    "    this_user_datetime= this_user_engag[\"time_stamp\"].reset_index()[\"time_stamp\"]\n",
    "    # count iterations within 7 days of current iteration\n",
    "    for i in range(len(this_user_datetime)-2):\n",
    "        time_length= this_user_datetime[i +2]- this_user_datetime[i]\n",
    "        if time_length < pd.Timedelta('7 days'):\n",
    "            adobted_users= adopted_users.append(user)\n",
    "            break\n",
    "    # value count those that qualify above requirment\n",
    "    #add full info for counted to adobted_users\n",
    "print(len(adopted_users))\n",
    "    \n",
    "    "
   ]
  },
  {
   "cell_type": "markdown",
   "metadata": {},
   "source": [
    "There are 1,602 adopted users by their definition, and I have a list of their user ID's.\n",
    "I can create sorting variable of True or False within the major DF to easily sort and isolate differences between the groups. "
   ]
  },
  {
   "cell_type": "code",
   "execution_count": 6,
   "metadata": {
    "collapsed": true
   },
   "outputs": [],
   "source": [
    "df_['adopted_user']= np.where(df_['user_id'].isin(adopted_users), True, False)"
   ]
  },
  {
   "cell_type": "code",
   "execution_count": 7,
   "metadata": {},
   "outputs": [
    {
     "data": {
      "text/html": [
       "<div>\n",
       "<style>\n",
       "    .dataframe thead tr:only-child th {\n",
       "        text-align: right;\n",
       "    }\n",
       "\n",
       "    .dataframe thead th {\n",
       "        text-align: left;\n",
       "    }\n",
       "\n",
       "    .dataframe tbody tr th {\n",
       "        vertical-align: top;\n",
       "    }\n",
       "</style>\n",
       "<table border=\"1\" class=\"dataframe\">\n",
       "  <thead>\n",
       "    <tr style=\"text-align: right;\">\n",
       "      <th></th>\n",
       "      <th>time_stamp</th>\n",
       "      <th>user_id</th>\n",
       "      <th>creation_time</th>\n",
       "      <th>name</th>\n",
       "      <th>email</th>\n",
       "      <th>creation_source</th>\n",
       "      <th>last_session_creation_time</th>\n",
       "      <th>opted_in_to_mailing_list</th>\n",
       "      <th>enabled_for_marketing_drip</th>\n",
       "      <th>org_id</th>\n",
       "      <th>invited_by_user_id</th>\n",
       "      <th>adopted_user</th>\n",
       "    </tr>\n",
       "  </thead>\n",
       "  <tbody>\n",
       "    <tr>\n",
       "      <th>0</th>\n",
       "      <td>2014-04-22 03:53:30</td>\n",
       "      <td>1</td>\n",
       "      <td>2014-04-22 03:53:30</td>\n",
       "      <td>Clausen August</td>\n",
       "      <td>AugustCClausen@yahoo.com</td>\n",
       "      <td>GUEST_INVITE</td>\n",
       "      <td>1398138810</td>\n",
       "      <td>1</td>\n",
       "      <td>0</td>\n",
       "      <td>11</td>\n",
       "      <td>10803</td>\n",
       "      <td>False</td>\n",
       "    </tr>\n",
       "    <tr>\n",
       "      <th>1</th>\n",
       "      <td>2013-11-15 03:45:04</td>\n",
       "      <td>2</td>\n",
       "      <td>2013-11-15 03:45:04</td>\n",
       "      <td>Poole Matthew</td>\n",
       "      <td>MatthewPoole@gustr.com</td>\n",
       "      <td>ORG_INVITE</td>\n",
       "      <td>1396237504</td>\n",
       "      <td>0</td>\n",
       "      <td>0</td>\n",
       "      <td>1</td>\n",
       "      <td>316</td>\n",
       "      <td>True</td>\n",
       "    </tr>\n",
       "    <tr>\n",
       "      <th>2</th>\n",
       "      <td>2013-11-29 03:45:04</td>\n",
       "      <td>2</td>\n",
       "      <td>2013-11-15 03:45:04</td>\n",
       "      <td>Poole Matthew</td>\n",
       "      <td>MatthewPoole@gustr.com</td>\n",
       "      <td>ORG_INVITE</td>\n",
       "      <td>1396237504</td>\n",
       "      <td>0</td>\n",
       "      <td>0</td>\n",
       "      <td>1</td>\n",
       "      <td>316</td>\n",
       "      <td>True</td>\n",
       "    </tr>\n",
       "  </tbody>\n",
       "</table>\n",
       "</div>"
      ],
      "text/plain": [
       "           time_stamp  user_id        creation_time            name  \\\n",
       "0 2014-04-22 03:53:30        1  2014-04-22 03:53:30  Clausen August   \n",
       "1 2013-11-15 03:45:04        2  2013-11-15 03:45:04   Poole Matthew   \n",
       "2 2013-11-29 03:45:04        2  2013-11-15 03:45:04   Poole Matthew   \n",
       "\n",
       "                      email creation_source last_session_creation_time  \\\n",
       "0  AugustCClausen@yahoo.com    GUEST_INVITE                 1398138810   \n",
       "1    MatthewPoole@gustr.com      ORG_INVITE                 1396237504   \n",
       "2    MatthewPoole@gustr.com      ORG_INVITE                 1396237504   \n",
       "\n",
       "   opted_in_to_mailing_list  enabled_for_marketing_drip  org_id  \\\n",
       "0                         1                           0      11   \n",
       "1                         0                           0       1   \n",
       "2                         0                           0       1   \n",
       "\n",
       "  invited_by_user_id  adopted_user  \n",
       "0              10803         False  \n",
       "1                316          True  \n",
       "2                316          True  "
      ]
     },
     "execution_count": 7,
     "metadata": {},
     "output_type": "execute_result"
    }
   ],
   "source": [
    "df_.head(3)"
   ]
  },
  {
   "cell_type": "markdown",
   "metadata": {},
   "source": [
    "## identify which factors predict future user adoption.\n",
    "\n",
    "Now given the data available, what info would best predict future adoption? I suspect (without further EDA or analysis) that either creation_source (i.e. if a organization invited the user or an individual) OR wether user the opted into the mailing service will be the biggest indicators. \n",
    "\n",
    "However, I should look at all indicators openly."
   ]
  },
  {
   "cell_type": "code",
   "execution_count": 8,
   "metadata": {},
   "outputs": [
    {
     "data": {
      "text/html": [
       "<div>\n",
       "<style>\n",
       "    .dataframe thead tr:only-child th {\n",
       "        text-align: right;\n",
       "    }\n",
       "\n",
       "    .dataframe thead th {\n",
       "        text-align: left;\n",
       "    }\n",
       "\n",
       "    .dataframe tbody tr th {\n",
       "        vertical-align: top;\n",
       "    }\n",
       "</style>\n",
       "<table border=\"1\" class=\"dataframe\">\n",
       "  <thead>\n",
       "    <tr style=\"text-align: right;\">\n",
       "      <th>opted_in_to_mailing_list</th>\n",
       "      <th>0</th>\n",
       "      <th>1</th>\n",
       "    </tr>\n",
       "    <tr>\n",
       "      <th>adopted_user</th>\n",
       "      <th></th>\n",
       "      <th></th>\n",
       "    </tr>\n",
       "  </thead>\n",
       "  <tbody>\n",
       "    <tr>\n",
       "      <th>False</th>\n",
       "      <td>0.048436</td>\n",
       "      <td>0.047102</td>\n",
       "    </tr>\n",
       "    <tr>\n",
       "      <th>True</th>\n",
       "      <td>0.951564</td>\n",
       "      <td>0.952898</td>\n",
       "    </tr>\n",
       "  </tbody>\n",
       "</table>\n",
       "</div>"
      ],
      "text/plain": [
       "opted_in_to_mailing_list         0         1\n",
       "adopted_user                                \n",
       "False                     0.048436  0.047102\n",
       "True                      0.951564  0.952898"
      ]
     },
     "execution_count": 8,
     "metadata": {},
     "output_type": "execute_result"
    }
   ],
   "source": [
    "# looking at frequency of each potential indicator\n",
    "pd.crosstab(df_['adopted_user'], df_['opted_in_to_mailing_list'], normalize= 'columns')"
   ]
  },
  {
   "cell_type": "code",
   "execution_count": 9,
   "metadata": {},
   "outputs": [
    {
     "data": {
      "text/html": [
       "<div>\n",
       "<style>\n",
       "    .dataframe thead tr:only-child th {\n",
       "        text-align: right;\n",
       "    }\n",
       "\n",
       "    .dataframe thead th {\n",
       "        text-align: left;\n",
       "    }\n",
       "\n",
       "    .dataframe tbody tr th {\n",
       "        vertical-align: top;\n",
       "    }\n",
       "</style>\n",
       "<table border=\"1\" class=\"dataframe\">\n",
       "  <thead>\n",
       "    <tr style=\"text-align: right;\">\n",
       "      <th>enabled_for_marketing_drip</th>\n",
       "      <th>0</th>\n",
       "      <th>1</th>\n",
       "    </tr>\n",
       "    <tr>\n",
       "      <th>adopted_user</th>\n",
       "      <th></th>\n",
       "      <th></th>\n",
       "    </tr>\n",
       "  </thead>\n",
       "  <tbody>\n",
       "    <tr>\n",
       "      <th>False</th>\n",
       "      <td>0.048047</td>\n",
       "      <td>0.048335</td>\n",
       "    </tr>\n",
       "    <tr>\n",
       "      <th>True</th>\n",
       "      <td>0.951953</td>\n",
       "      <td>0.951665</td>\n",
       "    </tr>\n",
       "  </tbody>\n",
       "</table>\n",
       "</div>"
      ],
      "text/plain": [
       "enabled_for_marketing_drip         0         1\n",
       "adopted_user                                  \n",
       "False                       0.048047  0.048335\n",
       "True                        0.951953  0.951665"
      ]
     },
     "execution_count": 9,
     "metadata": {},
     "output_type": "execute_result"
    }
   ],
   "source": [
    "pd.crosstab(df_['adopted_user'], df_['enabled_for_marketing_drip'], normalize= 'columns')"
   ]
  },
  {
   "cell_type": "code",
   "execution_count": 10,
   "metadata": {},
   "outputs": [
    {
     "name": "stdout",
     "output_type": "stream",
     "text": [
      "creation_source  GUEST_INVITE  ORG_INVITE  PERSONAL_PROJECTS   SIGNUP  \\\n",
      "adopted_user                                                            \n",
      "False                0.039491    0.052261           0.045989  0.05556   \n",
      "True                 0.960509    0.947739           0.954011  0.94444   \n",
      "\n",
      "creation_source  SIGNUP_GOOGLE_AUTH  \n",
      "adopted_user                         \n",
      "False                      0.044304  \n",
      "True                       0.955696  \n"
     ]
    }
   ],
   "source": [
    "print(pd.crosstab(df_['adopted_user'], df_['creation_source'], normalize= 'columns'))"
   ]
  },
  {
   "cell_type": "code",
   "execution_count": 11,
   "metadata": {},
   "outputs": [
    {
     "data": {
      "text/html": [
       "<div>\n",
       "<style>\n",
       "    .dataframe thead tr:only-child th {\n",
       "        text-align: right;\n",
       "    }\n",
       "\n",
       "    .dataframe thead th {\n",
       "        text-align: left;\n",
       "    }\n",
       "\n",
       "    .dataframe tbody tr th {\n",
       "        vertical-align: top;\n",
       "    }\n",
       "</style>\n",
       "<table border=\"1\" class=\"dataframe\">\n",
       "  <thead>\n",
       "    <tr style=\"text-align: right;\">\n",
       "      <th>org_id</th>\n",
       "      <th>0</th>\n",
       "      <th>1</th>\n",
       "      <th>2</th>\n",
       "      <th>3</th>\n",
       "      <th>4</th>\n",
       "      <th>5</th>\n",
       "      <th>6</th>\n",
       "      <th>7</th>\n",
       "      <th>8</th>\n",
       "      <th>9</th>\n",
       "      <th>...</th>\n",
       "      <th>407</th>\n",
       "      <th>408</th>\n",
       "      <th>409</th>\n",
       "      <th>410</th>\n",
       "      <th>411</th>\n",
       "      <th>412</th>\n",
       "      <th>413</th>\n",
       "      <th>414</th>\n",
       "      <th>415</th>\n",
       "      <th>416</th>\n",
       "    </tr>\n",
       "    <tr>\n",
       "      <th>adopted_user</th>\n",
       "      <th></th>\n",
       "      <th></th>\n",
       "      <th></th>\n",
       "      <th></th>\n",
       "      <th></th>\n",
       "      <th></th>\n",
       "      <th></th>\n",
       "      <th></th>\n",
       "      <th></th>\n",
       "      <th></th>\n",
       "      <th></th>\n",
       "      <th></th>\n",
       "      <th></th>\n",
       "      <th></th>\n",
       "      <th></th>\n",
       "      <th></th>\n",
       "      <th></th>\n",
       "      <th></th>\n",
       "      <th></th>\n",
       "      <th></th>\n",
       "      <th></th>\n",
       "    </tr>\n",
       "  </thead>\n",
       "  <tbody>\n",
       "    <tr>\n",
       "      <th>False</th>\n",
       "      <td>0.190647</td>\n",
       "      <td>0.087032</td>\n",
       "      <td>0.07575</td>\n",
       "      <td>0.06531</td>\n",
       "      <td>0.0625</td>\n",
       "      <td>0.081761</td>\n",
       "      <td>0.1776</td>\n",
       "      <td>0.049428</td>\n",
       "      <td>0.047912</td>\n",
       "      <td>0.102123</td>\n",
       "      <td>...</td>\n",
       "      <td>0.024017</td>\n",
       "      <td>0.074324</td>\n",
       "      <td>0.071066</td>\n",
       "      <td>0.347826</td>\n",
       "      <td>0.042955</td>\n",
       "      <td>1.0</td>\n",
       "      <td>0.022034</td>\n",
       "      <td>0.221557</td>\n",
       "      <td>0.020173</td>\n",
       "      <td>1.0</td>\n",
       "    </tr>\n",
       "    <tr>\n",
       "      <th>True</th>\n",
       "      <td>0.809353</td>\n",
       "      <td>0.912968</td>\n",
       "      <td>0.92425</td>\n",
       "      <td>0.93469</td>\n",
       "      <td>0.9375</td>\n",
       "      <td>0.918239</td>\n",
       "      <td>0.8224</td>\n",
       "      <td>0.950572</td>\n",
       "      <td>0.952088</td>\n",
       "      <td>0.897877</td>\n",
       "      <td>...</td>\n",
       "      <td>0.975983</td>\n",
       "      <td>0.925676</td>\n",
       "      <td>0.928934</td>\n",
       "      <td>0.652174</td>\n",
       "      <td>0.957045</td>\n",
       "      <td>0.0</td>\n",
       "      <td>0.977966</td>\n",
       "      <td>0.778443</td>\n",
       "      <td>0.979827</td>\n",
       "      <td>0.0</td>\n",
       "    </tr>\n",
       "  </tbody>\n",
       "</table>\n",
       "<p>2 rows × 417 columns</p>\n",
       "</div>"
      ],
      "text/plain": [
       "org_id             0         1        2        3       4         5       6    \\\n",
       "adopted_user                                                                   \n",
       "False         0.190647  0.087032  0.07575  0.06531  0.0625  0.081761  0.1776   \n",
       "True          0.809353  0.912968  0.92425  0.93469  0.9375  0.918239  0.8224   \n",
       "\n",
       "org_id             7         8         9   ...        407       408       409  \\\n",
       "adopted_user                               ...                                  \n",
       "False         0.049428  0.047912  0.102123 ...   0.024017  0.074324  0.071066   \n",
       "True          0.950572  0.952088  0.897877 ...   0.975983  0.925676  0.928934   \n",
       "\n",
       "org_id             410       411  412       413       414       415  416  \n",
       "adopted_user                                                              \n",
       "False         0.347826  0.042955  1.0  0.022034  0.221557  0.020173  1.0  \n",
       "True          0.652174  0.957045  0.0  0.977966  0.778443  0.979827  0.0  \n",
       "\n",
       "[2 rows x 417 columns]"
      ]
     },
     "execution_count": 11,
     "metadata": {},
     "output_type": "execute_result"
    }
   ],
   "source": [
    "pd.crosstab(df_['adopted_user'], df_['org_id'], normalize= 'columns')\n"
   ]
  },
  {
   "cell_type": "code",
   "execution_count": 12,
   "metadata": {},
   "outputs": [
    {
     "data": {
      "text/html": [
       "<div>\n",
       "<style>\n",
       "    .dataframe thead tr:only-child th {\n",
       "        text-align: right;\n",
       "    }\n",
       "\n",
       "    .dataframe thead th {\n",
       "        text-align: left;\n",
       "    }\n",
       "\n",
       "    .dataframe tbody tr th {\n",
       "        vertical-align: top;\n",
       "    }\n",
       "</style>\n",
       "<table border=\"1\" class=\"dataframe\">\n",
       "  <thead>\n",
       "    <tr style=\"text-align: right;\">\n",
       "      <th>invited_by_user_id</th>\n",
       "      <th></th>\n",
       "      <th>10</th>\n",
       "      <th>10003</th>\n",
       "      <th>10010</th>\n",
       "      <th>10012</th>\n",
       "      <th>10014</th>\n",
       "      <th>10017</th>\n",
       "      <th>10020</th>\n",
       "      <th>10030</th>\n",
       "      <th>10039</th>\n",
       "      <th>...</th>\n",
       "      <th>9925</th>\n",
       "      <th>9935</th>\n",
       "      <th>9953</th>\n",
       "      <th>9958</th>\n",
       "      <th>9959</th>\n",
       "      <th>9964</th>\n",
       "      <th>9968</th>\n",
       "      <th>9985</th>\n",
       "      <th>9986</th>\n",
       "      <th>9997</th>\n",
       "    </tr>\n",
       "    <tr>\n",
       "      <th>adopted_user</th>\n",
       "      <th></th>\n",
       "      <th></th>\n",
       "      <th></th>\n",
       "      <th></th>\n",
       "      <th></th>\n",
       "      <th></th>\n",
       "      <th></th>\n",
       "      <th></th>\n",
       "      <th></th>\n",
       "      <th></th>\n",
       "      <th></th>\n",
       "      <th></th>\n",
       "      <th></th>\n",
       "      <th></th>\n",
       "      <th></th>\n",
       "      <th></th>\n",
       "      <th></th>\n",
       "      <th></th>\n",
       "      <th></th>\n",
       "      <th></th>\n",
       "      <th></th>\n",
       "    </tr>\n",
       "  </thead>\n",
       "  <tbody>\n",
       "    <tr>\n",
       "      <th>False</th>\n",
       "      <td>0.049302</td>\n",
       "      <td>1.0</td>\n",
       "      <td>1.0</td>\n",
       "      <td>1.0</td>\n",
       "      <td>0.017812</td>\n",
       "      <td>0.0</td>\n",
       "      <td>0.0</td>\n",
       "      <td>1.0</td>\n",
       "      <td>1.0</td>\n",
       "      <td>1.0</td>\n",
       "      <td>...</td>\n",
       "      <td>1.0</td>\n",
       "      <td>1.0</td>\n",
       "      <td>1.0</td>\n",
       "      <td>1.0</td>\n",
       "      <td>1.0</td>\n",
       "      <td>1.0</td>\n",
       "      <td>0.0</td>\n",
       "      <td>0.0</td>\n",
       "      <td>0.0</td>\n",
       "      <td>1.0</td>\n",
       "    </tr>\n",
       "    <tr>\n",
       "      <th>True</th>\n",
       "      <td>0.950698</td>\n",
       "      <td>0.0</td>\n",
       "      <td>0.0</td>\n",
       "      <td>0.0</td>\n",
       "      <td>0.982188</td>\n",
       "      <td>1.0</td>\n",
       "      <td>1.0</td>\n",
       "      <td>0.0</td>\n",
       "      <td>0.0</td>\n",
       "      <td>0.0</td>\n",
       "      <td>...</td>\n",
       "      <td>0.0</td>\n",
       "      <td>0.0</td>\n",
       "      <td>0.0</td>\n",
       "      <td>0.0</td>\n",
       "      <td>0.0</td>\n",
       "      <td>0.0</td>\n",
       "      <td>1.0</td>\n",
       "      <td>1.0</td>\n",
       "      <td>1.0</td>\n",
       "      <td>0.0</td>\n",
       "    </tr>\n",
       "  </tbody>\n",
       "</table>\n",
       "<p>2 rows × 2230 columns</p>\n",
       "</div>"
      ],
      "text/plain": [
       "invited_by_user_id             10  10003  10010     10012  10014  10017  \\\n",
       "adopted_user                                                              \n",
       "False               0.049302  1.0    1.0    1.0  0.017812    0.0    0.0   \n",
       "True                0.950698  0.0    0.0    0.0  0.982188    1.0    1.0   \n",
       "\n",
       "invited_by_user_id  10020  10030  10039  ...   9925  9935  9953  9958  9959  \\\n",
       "adopted_user                             ...                                  \n",
       "False                 1.0    1.0    1.0  ...    1.0   1.0   1.0   1.0   1.0   \n",
       "True                  0.0    0.0    0.0  ...    0.0   0.0   0.0   0.0   0.0   \n",
       "\n",
       "invited_by_user_id  9964  9968  9985  9986  9997  \n",
       "adopted_user                                      \n",
       "False                1.0   0.0   0.0   0.0   1.0  \n",
       "True                 0.0   1.0   1.0   1.0   0.0  \n",
       "\n",
       "[2 rows x 2230 columns]"
      ]
     },
     "execution_count": 12,
     "metadata": {},
     "output_type": "execute_result"
    }
   ],
   "source": [
    "pd.crosstab(df_['adopted_user'], df_['invited_by_user_id'], normalize= 'columns')"
   ]
  },
  {
   "cell_type": "markdown",
   "metadata": {},
   "source": [
    "# first thoughts\n",
    "It looks like wether or not they opted into the mailing list, or enabled for marketing seems to have had no effect.\n",
    "\n",
    "Guest invite seems to be slightly higher then the others. There are also differences in adoption rates across Organization Ids"
   ]
  },
  {
   "cell_type": "code",
   "execution_count": 13,
   "metadata": {
    "collapsed": true
   },
   "outputs": [],
   "source": [
    "df_org_a= pd.crosstab(df_['adopted_user'], df_['org_id'], normalize= 'columns')\n",
    "\n"
   ]
  },
  {
   "cell_type": "code",
   "execution_count": 12,
   "metadata": {},
   "outputs": [
    {
     "data": {
      "image/png": "[encoded data removed]",
      "text/plain": [
       "<matplotlib.figure.Figure at 0xbad4400>"
      ]
     },
     "metadata": {},
     "output_type": "display_data"
    }
   ],
   "source": [
    "stacked = df_org_a.stack().reset_index().rename(columns={0:'value'})\n",
    "\n",
    "fig_size = plt.rcParams[\"figure.figsize\"]\n",
    "fig_size[0] = 25\n",
    "fig_size[1] = 10\n",
    "\n",
    "# plot grouped bar chart\n",
    "sns.barplot(x=stacked.org_id, y=stacked.value, hue=stacked.adopted_user)\n",
    "plt.xticks(rotation= 45, fontsize= 15)\n",
    "plt.show()"
   ]
  },
  {
   "cell_type": "markdown",
   "metadata": {},
   "source": [
    "There are too many  values to ge ta clear idea of which orgs are different, but it is noticable that there are some with specifically higher False values then the others."
   ]
  },
  {
   "cell_type": "code",
   "execution_count": 14,
   "metadata": {},
   "outputs": [
    {
     "data": {
      "text/plain": [
       "Index(['org_id', 'adopted_user', 0], dtype='object')"
      ]
     },
     "execution_count": 14,
     "metadata": {},
     "output_type": "execute_result"
    }
   ],
   "source": [
    "df_org_a= df_org_a.unstack()\n",
    "df_org_ad= df_org_a.transpose()\n",
    "df_org_ad= pd.DataFrame(df_org_ad)\n",
    "df_org_ad.reset_index(inplace=True)\n",
    "df_org_ad.columns"
   ]
  },
  {
   "cell_type": "code",
   "execution_count": 15,
   "metadata": {
    "collapsed": true
   },
   "outputs": [],
   "source": [
    "df_org_false= df_org_ad.loc[df_org_ad['adopted_user'] == False].copy()"
   ]
  },
  {
   "cell_type": "code",
   "execution_count": 316,
   "metadata": {},
   "outputs": [
    {
     "data": {
      "image/png": "[encoded data removed]",
      "text/plain": [
       "<matplotlib.figure.Figure at 0x174a6940>"
      ]
     },
     "metadata": {},
     "output_type": "display_data"
    }
   ],
   "source": [
    "df_org_false_high= df_org_false.loc[df_org_false[0] > 0.2].copy()\n",
    "df_org_false_high.columns= ['org_id', 'adopted_user', 'scores']\n",
    "sns.barplot(x=df_org_false_high.org_id, y=df_org_false_high['scores'], color='green')\n",
    "plt.xticks(rotation= 45, fontsize= 15)\n",
    "plt.show()"
   ]
  },
  {
   "cell_type": "markdown",
   "metadata": {},
   "source": [
    "There are clearly a few dozen options for 'org_id' that are good indicators of NOT becoming an adopted user. \n",
    "\n",
    "Which may be the explantion for the slightly lower adoption rate for organization-invited individuales vs. indivudal-invited individuals (94% to 96% respectively). \n",
    "\n",
    "Using logistic regression we can look at how well the different variables predict adopted users. I am using logisitic regression as it is a supervised machine learning technique that is well adopted for a binary explained variable. "
   ]
  },
  {
   "cell_type": "code",
   "execution_count": 81,
   "metadata": {},
   "outputs": [],
   "source": [
    "df_models= df_.copy()\n",
    "\n",
    "# drop duplicate entries from duplicate log-ins- since we are only interested in user data\n",
    "df_models= df_models.drop_duplicates(subset= 'user_id', keep='first')\n",
    "\n",
    "# to use log regresor I am going to clean up the df into a simplier format\n",
    "df_models['GUEST_INVITE'] = np.where(df_models.creation_source == 'GUEST_INVITE', 1, 0)\n",
    "df_models['ORG_INVITE'] = np.where(df_models.creation_source == 'ORG_INVITE', 1, 0)\n",
    "df_models['SIGNUP'] = np.where(df_models.creation_source == 'SIGNUP', 1, 0)\n",
    "df_models['PERSONAL_PROJECTS'] = np.where(df_models.creation_source == 'PERSONAL_PROJECTS', 1, 0)\n",
    "df_models['SIGNUP_GOOGLE_AUTH'] = np.where(df_models.creation_source == 'SIGNUP_GOOGLE_AUTH', 1, 0)\n",
    "df_models= df_models.drop('creation_source', 1)\n",
    "df_models= df_models.reset_index(drop=True)\n",
    "df_models= df_models.drop('time_stamp', 1)\n",
    "df_models= df_models.drop('email', 1)\n",
    "df_models= df_models.drop('last_session_creation_time', 1)\n",
    "df_models= df_models.drop('creation_time', 1)\n",
    "df_models= df_models.drop('name', 1)\n",
    "df_models= df_models.replace(np.nan, '0')\n",
    "df_models= df_models.replace('', '0')"
   ]
  },
  {
   "cell_type": "code",
   "execution_count": 76,
   "metadata": {},
   "outputs": [
    {
     "name": "stdout",
     "output_type": "stream",
     "text": [
      "0.814903846154\n"
     ]
    }
   ],
   "source": [
    "from sklearn.model_selection import train_test_split\n",
    "from sklearn.linear_model import LogisticRegression\n",
    "from sklearn.metrics import accuracy_score\n",
    "\n",
    "#proof of concept\n",
    "# imput as array\n",
    "x= df_models.as_matrix(columns=['org_id'])\n",
    "y = df_models.as_matrix(columns=['adopted_user'])\n",
    "\n",
    "X_train, X_test, y_train, y_test = train_test_split(x, y, test_size=0.33, random_state=42) #split data\n",
    "\n",
    "clf= LogisticRegression()\n",
    "clf.fit(X_train,y_train.ravel())\n",
    "\n",
    "print(accuracy_score(clf.predict(X_test), y_test))"
   ]
  },
  {
   "cell_type": "markdown",
   "metadata": {},
   "source": [
    " It looks like- as suspected above- that the Organization ID is a very good predictor of how likely a user is to become an adopted user.  \n",
    " \n",
    "Another potential variable to predict user adoption rates was Creation Source. Therefore, looking at all the creation source as a single predictor we see a similar accuracy score. "
   ]
  },
  {
   "cell_type": "code",
   "execution_count": 77,
   "metadata": {},
   "outputs": [
    {
     "name": "stdout",
     "output_type": "stream",
     "text": [
      "0.814903846154\n"
     ]
    }
   ],
   "source": [
    "from sklearn.model_selection import train_test_split\n",
    "from sklearn.linear_model import LogisticRegression\n",
    "from sklearn.metrics import accuracy_score\n",
    "cols= ['GUEST_INVITE', 'ORG_INVITE', 'SIGNUP', 'PERSONAL_PROJECTS', 'SIGNUP_GOOGLE_AUTH']\n",
    "\n",
    "#proof of concept\n",
    "# imput as array\n",
    "x= df_models.as_matrix(columns=[cols])\n",
    "y = df_models.as_matrix(columns=['adopted_user'])\n",
    "\n",
    "X_train, X_test, y_train, y_test = train_test_split(x, y, test_size=0.33, random_state=42) #split data\n",
    "\n",
    "clf= LogisticRegression()\n",
    "clf.fit(X_train,y_train.ravel())\n",
    "\n",
    "print(accuracy_score(clf.predict(X_test), y_test))"
   ]
  },
  {
   "cell_type": "code",
   "execution_count": 78,
   "metadata": {},
   "outputs": [
    {
     "name": "stdout",
     "output_type": "stream",
     "text": [
      "<class 'pandas.core.frame.DataFrame'>\n",
      "RangeIndex: 8823 entries, 0 to 8822\n",
      "Data columns (total 11 columns):\n",
      "user_id                       8823 non-null int64\n",
      "opted_in_to_mailing_list      8823 non-null int64\n",
      "enabled_for_marketing_drip    8823 non-null int64\n",
      "org_id                        8823 non-null int64\n",
      "invited_by_user_id            8823 non-null object\n",
      "adopted_user                  8823 non-null bool\n",
      "GUEST_INVITE                  8823 non-null int32\n",
      "ORG_INVITE                    8823 non-null int32\n",
      "SIGNUP                        8823 non-null int32\n",
      "PERSONAL_PROJECTS             8823 non-null int32\n",
      "SIGNUP_GOOGLE_AUTH            8823 non-null int32\n",
      "dtypes: bool(1), int32(5), int64(4), object(1)\n",
      "memory usage: 525.7+ KB\n"
     ]
    }
   ],
   "source": [
    "df_models.info()"
   ]
  },
  {
   "cell_type": "code",
   "execution_count": 56,
   "metadata": {},
   "outputs": [
    {
     "name": "stdout",
     "output_type": "stream",
     "text": [
      "Prediction model testing: user_id\n",
      "0.81671388102\n",
      "Prediction model testing: opted_in_to_mailing_list\n",
      "0.820963172805\n",
      "Prediction model testing: enabled_for_marketing_drip\n",
      "0.811331444759\n",
      "Prediction model testing: org_id\n",
      "0.827195467422\n",
      "Prediction model testing: invited_by_user_id\n",
      "0.81388101983\n",
      "Prediction model testing: adopted_user\n",
      "1.0\n",
      "Prediction model testing: GUEST_INVITE\n",
      "0.825212464589\n",
      "Prediction model testing: ORG_INVITE\n",
      "0.816997167139\n",
      "Prediction model testing: SIGNUP\n",
      "0.813314447592\n",
      "Prediction model testing: PERSONAL_PROJECTS\n",
      "0.81388101983\n",
      "Prediction model testing: SIGNUP_GOOGLE_AUTH\n",
      "0.820963172805\n"
     ]
    }
   ],
   "source": [
    "\n",
    "for column in df_models.iteritems():\n",
    "    col_name= column[0]\n",
    "    df_models[col_name]= df_models[col_name].astype(int)\n",
    "    print(\"Prediction model testing:\", col_name)\n",
    "    \n",
    "    # selecting dependent and independent variables from df\n",
    "    x1= df_models.as_matrix(columns= [col_name])\n",
    "    y1= df_models.as_matrix(columns= ['adopted_user'])\n",
    "    \n",
    "    X_train, X_test, y_train, y_test = train_test_split(x1, y1, test_size=0.4)\n",
    "    \n",
    "    clf= LogisticRegression()\n",
    "    clf.fit(X_train,y_train.ravel())\n",
    "    print(accuracy_score(clf.predict(X_test), y_test))"
   ]
  },
  {
   "cell_type": "markdown",
   "metadata": {},
   "source": [
    "When Looking at best single predictors we have Org_id (matches analysis above), guest invite (unsurprising from the cumulative customer referal regression model above), and opted_into mailing list. \n",
    "\n",
    "For one more look I will create a regression model looking at multiple variables at a time. The model that does the worst with one or more dropped variable will help us confirm and/or narrow down which predictors are the most important for identifying users who will likely become adopted users. "
   ]
  },
  {
   "cell_type": "code",
   "execution_count": 87,
   "metadata": {
    "collapsed": true
   },
   "outputs": [],
   "source": [
    "# isolate adopted_user to keep from false positive result in multi result\n",
    "df_columns= df_models.drop('adopted_user', 1)"
   ]
  },
  {
   "cell_type": "code",
   "execution_count": 88,
   "metadata": {},
   "outputs": [
    {
     "name": "stdout",
     "output_type": "stream",
     "text": [
      "Prediction model missing data on: user_id\n",
      "0.826345609065\n",
      "Prediction model missing data on: opted_in_to_mailing_list\n",
      "0.824079320113\n",
      "Prediction model missing data on: enabled_for_marketing_drip\n",
      "0.818696883853\n",
      "Prediction model missing data on: org_id\n",
      "0.816997167139\n",
      "Prediction model missing data on: invited_by_user_id\n",
      "0.814164305949\n",
      "Prediction model missing data on: GUEST_INVITE\n",
      "0.81388101983\n",
      "Prediction model missing data on: ORG_INVITE\n",
      "0.825495750708\n",
      "Prediction model missing data on: SIGNUP\n",
      "0.829461756374\n",
      "Prediction model missing data on: PERSONAL_PROJECTS\n",
      "0.820113314448\n",
      "Prediction model missing data on: SIGNUP_GOOGLE_AUTH\n",
      "0.81671388102\n"
     ]
    }
   ],
   "source": [
    "for column in df_columns.iteritems():\n",
    "    col_name= column[0]\n",
    "    df_columns[col_name]= df_columns[col_name].astype(int)\n",
    "    print(\"Prediction model missing data on:\", col_name)\n",
    "    temp_df=df_columns.drop([col_name], 1) # dropping the defined column\n",
    "    col_list= temp_df.columns # list containing all other column names\n",
    "    \n",
    "    # selecting dependent and independent variables from df\n",
    "    x1= df_columns.as_matrix(columns= [col_list])\n",
    "    y1= df_models.as_matrix(columns= ['adopted_user'])\n",
    "    \n",
    "    X_train, X_test, y_train, y_test = train_test_split(x1, y1, test_size=0.4)\n",
    "    \n",
    "    clf= LogisticRegression()\n",
    "    clf.fit(X_train,y_train.ravel())\n",
    "    print(accuracy_score(clf.predict(X_test), y_test))"
   ]
  },
  {
   "cell_type": "markdown",
   "metadata": {},
   "source": [
    "# Final Thoughts\n",
    "Org_ID and Guest invite continue to be the best predictors of adopted users"
   ]
  },
  {
   "cell_type": "code",
   "execution_count": null,
   "metadata": {
    "collapsed": true
   },
   "outputs": [],
   "source": []
  }
 ],
 "metadata": {
  "kernelspec": {
   "display_name": "Python 3",
   "language": "python",
   "name": "python3"
  },
  "language_info": {
   "codemirror_mode": {
    "name": "ipython",
    "version": 3
   },
   "file_extension": ".py",
   "mimetype": "text/x-python",
   "name": "python",
   "nbconvert_exporter": "python",
   "pygments_lexer": "ipython3",
   "version": "3.6.1"
  }
 },
 "nbformat": 4,
 "nbformat_minor": 2
}
